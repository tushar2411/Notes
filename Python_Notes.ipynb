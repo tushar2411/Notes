{
  "nbformat": 4,
  "nbformat_minor": 0,
  "metadata": {
    "colab": {
      "provenance": []
    },
    "kernelspec": {
      "name": "python3",
      "display_name": "Python 3"
    },
    "language_info": {
      "name": "python"
    }
  },
  "cells": [
    {
      "cell_type": "code",
      "execution_count": null,
      "metadata": {
        "id": "d9YB0xNQd2u2"
      },
      "outputs": [],
      "source": []
    },
    {
      "cell_type": "markdown",
      "source": [
        "# 1) Python Basics:\n",
        "\n",
        "    "
      ],
      "metadata": {
        "id": "Gkg03CvefDoU"
      }
    },
    {
      "cell_type": "markdown",
      "source": [
        "Python is a high-level, interpreted programming language used for a variety of purposes. It is known for its simplicity, readability, and ease of use."
      ],
      "metadata": {
        "id": "QzMnAII-fT7L"
      }
    },
    {
      "cell_type": "markdown",
      "source": [
        "Here's an example of a simple Python program:"
      ],
      "metadata": {
        "id": "g44Eku1qfWcb"
      }
    },
    {
      "cell_type": "code",
      "source": [
        "# This is a comment\n",
        "print(\"Hello, World!\")\n"
      ],
      "metadata": {
        "id": "gOshgII_fX5j"
      },
      "execution_count": null,
      "outputs": []
    },
    {
      "cell_type": "markdown",
      "source": [
        "This program will output \"Hello, World!\" when run. The \"#\" character is used to indicate a comment in Python.\n",
        "\n",
        "# 2) Variables:\n",
        "Variables are used to store data in Python. You don't have to declare a variable type in Python because it is dynamically typed.\n",
        "\n",
        "Here's an example of using variables in Python:"
      ],
      "metadata": {
        "id": "OvYpF9N6fcAM"
      }
    },
    {
      "cell_type": "code",
      "source": [
        "x = 5\n",
        "y = \"John\"\n",
        "print(x)\n",
        "print(y)\n"
      ],
      "metadata": {
        "id": "LFQT2DIxfpgT"
      },
      "execution_count": null,
      "outputs": []
    },
    {
      "cell_type": "markdown",
      "source": [
        "In this example, the variable \"x\" stores an integer value of 5, and the variable \"y\" stores a string value of \"John\". The \"print\" function is used to output the values of the variables to the console."
      ],
      "metadata": {
        "id": "4eBqDaNRfvXC"
      }
    },
    {
      "cell_type": "markdown",
      "source": [
        "# 3) Data Types:\n",
        "There are several data types in Python. Some of them are:\n",
        "\n",
        "Numbers (int, float, complex)\n",
        "\n",
        "Strings\n",
        "\n",
        "Booleans\n",
        "\n",
        "Lists\n",
        "\n",
        "Tuples\n",
        "\n",
        "Sets\n",
        "\n",
        "Dictionaries"
      ],
      "metadata": {
        "id": "tbKO2AygfwW8"
      }
    },
    {
      "cell_type": "code",
      "source": [
        "# Example of numbers\n",
        "a = 5          # int\n",
        "b = 2.0        # float\n",
        "c = 1 + 2j     # complex\n",
        "\n",
        "# Example of strings\n",
        "message = \"Hello, World!\"\n",
        "\n",
        "# Example of booleans\n",
        "x = True\n",
        "y = False\n",
        "\n",
        "# Example of lists\n",
        "fruits = [\"apple\", \"banana\", \"cherry\"]\n",
        "\n",
        "# Example of tuples\n",
        "coordinates = (10, 20)\n",
        "\n",
        "# Example of sets\n",
        "my_set = {1, 2, 3}\n",
        "\n",
        "# Example of dictionaries\n",
        "person = {\"name\": \"John\", \"age\": 36}\n"
      ],
      "metadata": {
        "id": "t7ajWWJnf1_5"
      },
      "execution_count": null,
      "outputs": []
    },
    {
      "cell_type": "markdown",
      "source": [
        "In this example, the \"type\" function is used to output the data type of each variable."
      ],
      "metadata": {
        "id": "6ja2gaONf4Rf"
      }
    },
    {
      "cell_type": "markdown",
      "source": [
        "# 4) Operators:\n",
        "\n",
        "\n",
        "*   Arithmetic operators (+, -, *, /, %, **, //)\n",
        "\n",
        "*  Comparison operators (==, !=, <, >, <=, >=)\n",
        "*   Logical operators (and, or, not)\n",
        "\n",
        "\n",
        "*   Assignment operators (=, +=, -=, *=, /=, %=, **=, //=)\n",
        "\n"
      ],
      "metadata": {
        "id": "oxhMZynXf--7"
      }
    },
    {
      "cell_type": "code",
      "source": [
        "# Example of arithmetic operators\n",
        "x = 5\n",
        "y = 2\n",
        "\n",
        "print(x + y)    # Output: 7\n",
        "print(x - y)    # Output: 3\n",
        "print(x * y)    # Output: 10\n",
        "print(x / y)    # Output: 2.5\n",
        "print(x % y)    # Output: 1\n",
        "print(x ** y)   # Output: 25\n",
        "print(x // y)   # Output: 2\n",
        "\n",
        "# Example of comparison operators\n",
        "x = 5\n",
        "y = 2\n",
        "\n",
        "print(x == y)   # Output: False\n",
        "print(x != y)   # Output: True\n",
        "print(x > y)    # Output: True\n",
        "print(x < y)    # Output: False\n",
        "print(x >= y)   # Output: True\n",
        "print(x <= y)   # Output: False\n",
        "\n",
        "# Example of logical operators\n",
        "x = 5\n",
        "y = 2\n",
        "\n",
        "print(x > 3 and y < 4)  # Output: True\n",
        "print(x > 3 or y < 1)   # Output: True\n",
        "print(not(x > 3))       # Output: False\n",
        "\n",
        "# Example of assignment operators\n",
        "x = 5\n",
        "\n",
        "x += 2     # Same as x = x + 2\n",
        "print(x)  # Output: 7\n",
        "\n",
        "x *= 2     # Same as x = x * 2\n",
        "print(x)  # Output: 14\n"
      ],
      "metadata": {
        "id": "duH87M5AgDNq"
      },
      "execution_count": null,
      "outputs": []
    },
    {
      "cell_type": "markdown",
      "source": [
        "In this example, the \"+\" operator performs addition, the \"-\" operator performs subtraction, the \"*\" operator performs multiplication, the \"/\" operator performs division, the \"%\" operator performs modulus, and the \"**\" operator performs exponentiation."
      ],
      "metadata": {
        "id": "4LWf1-A0gFBp"
      }
    },
    {
      "cell_type": "markdown",
      "source": [
        "# 5) Control Flow:\n",
        "Control flow is used to control the execution of code in Python. This includes if/else statements and loops.\n",
        "\n",
        "Here's an example of using control flow in Python:\n",
        "\n",
        "\n",
        "*   If statement\n",
        "*   Continue statement\n",
        "*   For loop\n",
        "*   While loop\n",
        "*   Break statement\n",
        "\n"
      ],
      "metadata": {
        "id": "0mDVovylgIUj"
      }
    },
    {
      "cell_type": "code",
      "source": [
        "# Example of if statement\n",
        "x = 5\n",
        "\n",
        "if x > 3:\n",
        "    print(\"x is greater than 3\")\n",
        "\n",
        "# Example of for loop\n",
        "fruits = [\"apple\", \"banana\", \"cherry\"]\n",
        "\n",
        "for fruit in fruits:\n",
        "    print(fruit)\n",
        "\n",
        "# Example of while loop\n",
        "i = 1\n",
        "\n",
        "while i < 6:\n",
        "   \n"
      ],
      "metadata": {
        "id": "IcAFRzV4gQ1i"
      },
      "execution_count": null,
      "outputs": []
    },
    {
      "cell_type": "markdown",
      "source": [
        "In this example, the \"if/else\" statement is used to check if \"x\" is greater than 2. If it is, \"x is greater than 2\" is output to the console. If it's not, \"x is less than or equal to 2\" is output to the console. The \"for\" loop is used to iterate over the \"fruits\" list and output each item to the console."
      ],
      "metadata": {
        "id": "bJNe4APKgS3z"
      }
    },
    {
      "cell_type": "markdown",
      "source": [
        "# 5) Functions:\n",
        "Functions are used to group a set of related statements that perform a specific task. You can define your own functions in Python using the def keyword."
      ],
      "metadata": {
        "id": "X0_EFIdLhR37"
      }
    },
    {
      "cell_type": "code",
      "source": [
        "# Example of a function\n",
        "def greet(name):\n",
        "    print(\"Hello, \" + name + \"!\")\n",
        "\n",
        "greet(\"John\")   # Output: Hello, John!\n"
      ],
      "metadata": {
        "id": "A5uS38BghWWp"
      },
      "execution_count": null,
      "outputs": []
    },
    {
      "cell_type": "markdown",
      "source": [
        "# 6) Classes:\n",
        "Classes are used to define objects in Python. A class is like a blueprint for creating objects. You can define your own classes in Python using the class keyword."
      ],
      "metadata": {
        "id": "nCsu_b2rhcEZ"
      }
    },
    {
      "cell_type": "code",
      "source": [
        "# Example of a class\n",
        "class Person:\n",
        "    def __init__(self, name, age):\n",
        "        self.name = name\n",
        "        self.age = age\n",
        "\n",
        "    def greet(self):\n",
        "        print(\"Hello, my name is \" + self.name + \" and I'm \" + str(self.age) + \" years old.\")\n",
        "\n",
        "person = Person(\"John\", 36)\n",
        "person.greet()  # Output: Hello, my name is John and I'm 36 years old.\n"
      ],
      "metadata": {
        "id": "Xy5p69Mehf6P"
      },
      "execution_count": null,
      "outputs": []
    },
    {
      "cell_type": "markdown",
      "source": [
        "7) Modules:\n",
        "Modules are used to organize related functions and classes into separate files. You can import modules into your Python code using the import keyword."
      ],
      "metadata": {
        "id": "oLwSGMi5h5TQ"
      }
    },
    {
      "cell_type": "code",
      "source": [
        "# Example of importing a module\n",
        "import math\n",
        "\n",
        "print(math.sqrt(16))    # Output: 4.0\n"
      ],
      "metadata": {
        "id": "G7DmCmPsh9h4"
      },
      "execution_count": null,
      "outputs": []
    },
    {
      "cell_type": "markdown",
      "source": [
        "# 8) Python Lists\n",
        "\n",
        "`mylist = [\"apple\", \"banana\", \"cherry\"]`"
      ],
      "metadata": {
        "id": "xYClNNl3iSOV"
      }
    },
    {
      "cell_type": "markdown",
      "source": [
        "List\n",
        "\n",
        "Lists are used to store multiple items in a single variable.\n",
        "\n",
        "Lists are one of 4 built-in data types in Python used to store collections of data, the other 3 are Tuple, Set, and Dictionary, all with different qualities and usage.\n",
        "\n",
        "Lists are created using square brackets:"
      ],
      "metadata": {
        "id": "Jjzwz1LoiSLH"
      }
    },
    {
      "cell_type": "code",
      "source": [
        "thislist = [\"apple\", \"banana\", \"cherry\"]\n",
        "print(thislist)\n"
      ],
      "metadata": {
        "id": "7JNrF2bWiiPc"
      },
      "execution_count": null,
      "outputs": []
    },
    {
      "cell_type": "markdown",
      "source": [
        "List items are ordered, changeable, and allow duplicate values.\n",
        "\n",
        "List items are indexed, the first item has index [0], the second item has index [1] etc."
      ],
      "metadata": {
        "id": "qZ731E4_jKoe"
      }
    },
    {
      "cell_type": "markdown",
      "source": [
        "9) Python Tuples"
      ],
      "metadata": {
        "id": "g5qFWpLNiR4Y"
      }
    },
    {
      "cell_type": "code",
      "source": [
        "mytuple = (\"apple\", \"banana\", \"cherry\")"
      ],
      "metadata": {
        "id": "kkU4Xpwki8JP"
      },
      "execution_count": null,
      "outputs": []
    },
    {
      "cell_type": "markdown",
      "source": [
        "Tuples are used to store multiple items in a single variable.\n",
        "\n",
        "Tuple is one of 4 built-in data types in Python used to store collections of data, the other 3 are List, Set, and Dictionary, all with different qualities and usage.\n",
        "\n",
        "A tuple is a collection which is ordered and unchangeable.\n",
        "\n",
        "Tuples are written with round brackets."
      ],
      "metadata": {
        "id": "4fWBC4g5i-Fa"
      }
    },
    {
      "cell_type": "code",
      "source": [
        "thistuple = (\"apple\", \"banana\", \"cherry\")\n",
        "print(thistuple)"
      ],
      "metadata": {
        "id": "ipcbD-4MjCep"
      },
      "execution_count": null,
      "outputs": []
    },
    {
      "cell_type": "markdown",
      "source": [
        "Tuple items are ordered, unchangeable, and allow duplicate values.\n",
        "\n",
        "Tuple items are indexed, the first item has index [0], the second item has index [1] etc."
      ],
      "metadata": {
        "id": "6N8p5IhqjF_w"
      }
    },
    {
      "cell_type": "markdown",
      "source": [
        "# 10) Python Sets"
      ],
      "metadata": {
        "id": "n4EyoHDTjTVw"
      }
    },
    {
      "cell_type": "code",
      "source": [
        "myset = {\"apple\", \"banana\", \"cherry\"}"
      ],
      "metadata": {
        "id": "pO9ph1bWjXCC"
      },
      "execution_count": null,
      "outputs": []
    },
    {
      "cell_type": "markdown",
      "source": [
        "Sets are used to store multiple items in a single variable.\n",
        "\n",
        "Set is one of 4 built-in data types in Python used to store collections of data, the other 3 are List, Tuple, and Dictionary, all with different qualities and usage.\n",
        "\n",
        "A set is a collection which is unordered, unchangeable*, and unindexed."
      ],
      "metadata": {
        "id": "tMH550JDjaAf"
      }
    },
    {
      "cell_type": "code",
      "source": [
        "thisset = {\"apple\", \"banana\", \"cherry\"}\n",
        "print(thisset)\n"
      ],
      "metadata": {
        "id": "9cIEWCkpjcF5"
      },
      "execution_count": null,
      "outputs": []
    },
    {
      "cell_type": "markdown",
      "source": [
        "Set Items\n",
        "\n",
        "Set items are unordered, unchangeable, and do not allow duplicate values."
      ],
      "metadata": {
        "id": "rSKkgZ9VjeZm"
      }
    },
    {
      "cell_type": "markdown",
      "source": [
        "11) Python Dictionaries"
      ],
      "metadata": {
        "id": "eVDddigqjiH2"
      }
    },
    {
      "cell_type": "code",
      "source": [
        "thisdict = {\n",
        "  \"brand\": \"Ford\",\n",
        "  \"model\": \"Mustang\",\n",
        "  \"year\": 1964\n",
        "}"
      ],
      "metadata": {
        "id": "x3DRNPI2jmsg"
      },
      "execution_count": null,
      "outputs": []
    },
    {
      "cell_type": "markdown",
      "source": [
        "Dictionaries are used to store data values in key:value pairs.\n",
        "\n",
        "A dictionary is a collection which is ordered*, changeable and do not allow duplicates."
      ],
      "metadata": {
        "id": "_CJWCU61jpAn"
      }
    },
    {
      "cell_type": "code",
      "source": [
        "thisdict = {\n",
        "  \"brand\": \"Ford\",\n",
        "  \"model\": \"Mustang\",\n",
        "  \"year\": 1964\n",
        "}\n",
        "print(thisdict)\n"
      ],
      "metadata": {
        "id": "nQhlMw7Ejq6f"
      },
      "execution_count": null,
      "outputs": []
    },
    {
      "cell_type": "markdown",
      "source": [
        "Dictionary Items\n",
        "\n",
        "Dictionary items are ordered, changeable, and does not allow duplicates.\n",
        "\n",
        "Dictionary items are presented in key:value pairs, and can be referred to by using the key name."
      ],
      "metadata": {
        "id": "S00mMOkGjt-O"
      }
    },
    {
      "cell_type": "code",
      "source": [
        "thisdict = {\n",
        "  \"brand\": \"Ford\",\n",
        "  \"model\": \"Mustang\",\n",
        "  \"year\": 1964\n",
        "}\n",
        "print(thisdict[\"brand\"])"
      ],
      "metadata": {
        "id": "ieCgtigkjwCu"
      },
      "execution_count": null,
      "outputs": []
    },
    {
      "cell_type": "markdown",
      "source": [
        "# 12) Python Arrays"
      ],
      "metadata": {
        "id": "0llE86eKkG_4"
      }
    },
    {
      "cell_type": "markdown",
      "source": [
        "Arrays are used to store multiple values in one single variable:"
      ],
      "metadata": {
        "id": "mP-jODJGkKIZ"
      }
    },
    {
      "cell_type": "markdown",
      "source": [
        "reate an array containing car names:\n",
        "\n",
        "\n"
      ],
      "metadata": {
        "id": "n1Ag9gHAkPR1"
      }
    },
    {
      "cell_type": "code",
      "source": [
        "cars = [\"Ford\", \"Volvo\", \"BMW\"]"
      ],
      "metadata": {
        "id": "QMByieplkhml"
      },
      "execution_count": null,
      "outputs": []
    },
    {
      "cell_type": "markdown",
      "source": [
        "What is an Array?\n",
        "An array is a special variable, which can hold more than one value at a time.\n",
        "\n",
        "If you have a list of items (a list of car names, for example), storing the cars in single variables could look like this:"
      ],
      "metadata": {
        "id": "8QB0gJoWkUeG"
      }
    },
    {
      "cell_type": "markdown",
      "source": [
        "However, what if you want to loop through the cars and find a specific one? And what if you had not 3 cars, but 300?\n",
        "\n",
        "The solution is an array!\n",
        "\n",
        "An array can hold many values under a single name, and you can access the values by referring to an index number."
      ],
      "metadata": {
        "id": "HXQMi3AnkeuG"
      }
    },
    {
      "cell_type": "code",
      "source": [],
      "metadata": {
        "id": "JxmLMgQIkm4n"
      },
      "execution_count": null,
      "outputs": []
    }
  ]
}