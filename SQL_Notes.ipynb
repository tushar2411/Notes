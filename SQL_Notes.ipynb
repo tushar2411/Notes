{
  "nbformat": 4,
  "nbformat_minor": 0,
  "metadata": {
    "colab": {
      "provenance": []
    },
    "kernelspec": {
      "name": "python3",
      "display_name": "Python 3"
    },
    "language_info": {
      "name": "python"
    }
  },
  "cells": [
    {
      "cell_type": "markdown",
      "source": [
        "# Basic"
      ],
      "metadata": {
        "id": "Qa-RTirCl94e"
      }
    },
    {
      "cell_type": "markdown",
      "source": [
        "\n",
        "\n",
        "1.  SELECT and WHERE for filtering and selection:\n",
        "\n",
        "\n"
      ],
      "metadata": {
        "id": "bVP4KT3al_7d"
      }
    },
    {
      "cell_type": "code",
      "execution_count": null,
      "metadata": {
        "id": "VyG_JH9xkyG4"
      },
      "outputs": [],
      "source": [
        "SELECT *\n",
        "FROM customers\n",
        "WHERE state = 'CA';"
      ]
    },
    {
      "cell_type": "markdown",
      "source": [
        "This query retrieves all data from the \"customers\" table where the \"state\" column equals \"CA\"."
      ],
      "metadata": {
        "id": "G73676znmcJz"
      }
    },
    {
      "cell_type": "markdown",
      "source": [
        "2) COUNT, SUM, MAX, GROUP BY, HAVING for aggregating data:"
      ],
      "metadata": {
        "id": "z_peZ1ZXmmIT"
      }
    },
    {
      "cell_type": "code",
      "source": [
        "SELECT product_category, COUNT(*) as num_products\n",
        "FROM products\n",
        "GROUP BY product_category\n",
        "HAVING num_products > 10;\n"
      ],
      "metadata": {
        "id": "u-okLt4Zm5LE"
      },
      "execution_count": null,
      "outputs": []
    },
    {
      "cell_type": "markdown",
      "source": [
        "This query counts the number of products in each product category in the \"products\" table and returns only those categories with more than 10 products."
      ],
      "metadata": {
        "id": "7hM6h2rSm3sc"
      }
    },
    {
      "cell_type": "markdown",
      "source": [
        "3) DISTINCT, COUNT DISTINCT for producing useful distinct lists and distinct aggregates:"
      ],
      "metadata": {
        "id": "tfFtCcf4m9wi"
      }
    },
    {
      "cell_type": "code",
      "source": [
        "SELECT DISTINCT state\n",
        "FROM customers;\n"
      ],
      "metadata": {
        "id": "n-kMxOFonAPV"
      },
      "execution_count": null,
      "outputs": []
    },
    {
      "cell_type": "markdown",
      "source": [
        "This query retrieves a list of distinct states from the \"customers\" tabl"
      ],
      "metadata": {
        "id": "LW4I__9snDAq"
      }
    },
    {
      "cell_type": "code",
      "source": [
        "SELECT COUNT(DISTINCT state) as num_states\n",
        "FROM customers;\n"
      ],
      "metadata": {
        "id": "JDILJMZgnEu1"
      },
      "execution_count": null,
      "outputs": []
    },
    {
      "cell_type": "markdown",
      "source": [
        "This query counts the number of distinct states in the \"customers\" table."
      ],
      "metadata": {
        "id": "8RsunaUfnHF-"
      }
    },
    {
      "cell_type": "markdown",
      "source": [
        "4) OUTER (e.g. LEFT) and INNER JOIN when/where to use them:"
      ],
      "metadata": {
        "id": "F7o248_znHuT"
      }
    },
    {
      "cell_type": "code",
      "source": [
        "SELECT *\n",
        "FROM orders\n",
        "LEFT JOIN customers ON orders.customer_id = customers.customer_id;\n"
      ],
      "metadata": {
        "id": "hkmkpYsynMYd"
      },
      "execution_count": null,
      "outputs": []
    },
    {
      "cell_type": "markdown",
      "source": [
        "This query retrieves all orders from the \"orders\" table and includes any corresponding customer information from the \"customers\" table."
      ],
      "metadata": {
        "id": "O_s_uqlrnOEl"
      }
    },
    {
      "cell_type": "code",
      "source": [
        "SELECT *\n",
        "FROM orders\n",
        "INNER JOIN customers ON orders.customer_id = customers.customer_id;\n"
      ],
      "metadata": {
        "id": "xdNGdN-FnPps"
      },
      "execution_count": null,
      "outputs": []
    },
    {
      "cell_type": "markdown",
      "source": [
        "This query retrieves only orders from the \"orders\" table that have a corresponding customer in the \"customers\" table."
      ],
      "metadata": {
        "id": "N-yipnu1nR9c"
      }
    },
    {
      "cell_type": "markdown",
      "source": [
        "5) Strings and time conversions:"
      ],
      "metadata": {
        "id": "zPkwdfmPnUDc"
      }
    },
    {
      "cell_type": "code",
      "source": [
        "SELECT CONCAT(first_name, ' ', last_name) as full_name\n",
        "FROM customers;\n"
      ],
      "metadata": {
        "id": "w1vi3Rw0nW50"
      },
      "execution_count": null,
      "outputs": []
    },
    {
      "cell_type": "markdown",
      "source": [
        "This query concatenates the \"first_name\" and \"last_name\" columns from the \"customers\" table and returns the result as a new column called \"full_name\"."
      ],
      "metadata": {
        "id": "qM9aD750nYrM"
      }
    },
    {
      "cell_type": "code",
      "source": [
        "SELECT DATE_FORMAT(order_date, '%Y-%m-%d') as formatted_date\n",
        "FROM orders;\n"
      ],
      "metadata": {
        "id": "ffART5RenaOu"
      },
      "execution_count": null,
      "outputs": []
    },
    {
      "cell_type": "markdown",
      "source": [
        "This query formats the \"order_date\" column in the \"orders\" table to display the date in the format \"YYYY-MM-DD\"."
      ],
      "metadata": {
        "id": "i4IITEkbnc9w"
      }
    },
    {
      "cell_type": "markdown",
      "source": [
        "6) UNION and UNION ALL:"
      ],
      "metadata": {
        "id": "0tdXxsHonfaN"
      }
    },
    {
      "cell_type": "code",
      "source": [
        "SELECT product_name\n",
        "FROM products\n",
        "WHERE product_category = 'Office Supplies'\n",
        "UNION\n",
        "SELECT product_name\n",
        "FROM products\n",
        "WHERE product_category = 'Furniture';\n"
      ],
      "metadata": {
        "id": "HUZF93Ejnhkx"
      },
      "execution_count": null,
      "outputs": []
    },
    {
      "cell_type": "markdown",
      "source": [
        "This query retrieves all product names from the \"products\" table in the \"Office Supplies\" category and combines them with all product names in the \"Furniture\" category."
      ],
      "metadata": {
        "id": "c4k3ROounjrQ"
      }
    },
    {
      "cell_type": "markdown",
      "source": [
        "# Intermediate:"
      ],
      "metadata": {
        "id": "kR_ZROqNnmGg"
      }
    },
    {
      "cell_type": "markdown",
      "source": [
        "1) DML/DDL/DCL concepts:"
      ],
      "metadata": {
        "id": "nbJcxwzjnnUY"
      }
    },
    {
      "cell_type": "markdown",
      "source": [
        "DML stands for Data Manipulation Language and includes commands such as SELECT, INSERT, UPDATE, and DELETE. DDL stands for Data Definition Language and includes commands such as CREATE, ALTER, and DROP. DCL stands for Data Control Language and includes commands such as GRANT and REVOKE."
      ],
      "metadata": {
        "id": "NVGmxzZOnsxb"
      }
    },
    {
      "cell_type": "markdown",
      "source": [
        "2) Handling NULLs creatively (e.g. with COALESC"
      ],
      "metadata": {
        "id": "D49LjDo7nuz7"
      }
    },
    {
      "cell_type": "code",
      "source": [
        "SELECT COALESCE(first_name, 'N/A') as first_name\n",
        "FROM customers;\n"
      ],
      "metadata": {
        "id": "sdh8FggRnxwn"
      },
      "execution_count": null,
      "outputs": []
    },
    {
      "cell_type": "markdown",
      "source": [
        "This query replaces any NULL values in the \"first_name\" column of the \"customers\" table with the text \"N/A\"."
      ],
      "metadata": {
        "id": "H6At_Ablnzan"
      }
    },
    {
      "cell_type": "markdown",
      "source": [
        "3) Subqueries and the impact of subqueries on efficiency of the query:"
      ],
      "metadata": {
        "id": "JOkzkOWfn2FW"
      }
    },
    {
      "cell_type": "code",
      "source": [
        "SELECT *\n",
        "FROM orders\n",
        "WHERE customer_id IN (\n",
        "  SELECT customer_id\n",
        "  FROM customers\n",
        "  WHERE state = 'CA'\n",
        ");\n"
      ],
      "metadata": {
        "id": "XAnIUw0Gn4Cn"
      },
      "execution_count": null,
      "outputs": []
    },
    {
      "cell_type": "markdown",
      "source": [
        "This query retrieves all orders from the \"orders\" table where the customer is located in California. The subquery is used to retrieve the list of customer IDs in California and can impact the efficiency of the query."
      ],
      "metadata": {
        "id": "gunhJ09Tn5pw"
      }
    },
    {
      "cell_type": "markdown",
      "source": [
        "4) Temporary tables:"
      ],
      "metadata": {
        "id": "C_EUxRCLn74w"
      }
    },
    {
      "cell_type": "code",
      "source": [
        "CREATE TEMPORARY TABLE temp_table AS (\n",
        "  SELECT *\n",
        "  FROM orders\n",
        "  WHERE order\n"
      ],
      "metadata": {
        "id": "ifgWAsSan_RQ"
      },
      "execution_count": null,
      "outputs": []
    },
    {
      "cell_type": "markdown",
      "source": [
        "5) Self joins:"
      ],
      "metadata": {
        "id": "OkZZuEaKoBqs"
      }
    },
    {
      "cell_type": "code",
      "source": [
        "SELECT a.employee_name, b.employee_name as manager_name\n",
        "FROM employees a\n",
        "INNER JOIN employees b ON a.manager_id = b.employee_id;\n"
      ],
      "metadata": {
        "id": "wf47QCsEoD6Y"
      },
      "execution_count": null,
      "outputs": []
    },
    {
      "cell_type": "markdown",
      "source": [
        "This query retrieves the name of each employee and the name of their manager from the \"employees\" table by joining the table to itself based on the \"manager_id\" and \"employee_id\" columns."
      ],
      "metadata": {
        "id": "kemci22MoFoD"
      }
    },
    {
      "cell_type": "markdown",
      "source": [
        "6) Window functions like PARTITION, LEAD, LAG, NTILE:"
      ],
      "metadata": {
        "id": "B9aT6cAaoHpQ"
      }
    },
    {
      "cell_type": "code",
      "source": [
        "SELECT customer_name, order_date, order_total, \n",
        "       SUM(order_total) OVER (PARTITION BY customer_name ORDER BY order_date) as running_total\n",
        "FROM orders;\n"
      ],
      "metadata": {
        "id": "YT6Bgb6hoJ_2"
      },
      "execution_count": null,
      "outputs": []
    },
    {
      "cell_type": "markdown",
      "source": [
        "This query retrieves the name of each customer, the date of each order, the order total, and a running total of the order totals for each customer. The running total is calculated using a window function with the PARTITION BY clause to group the orders by customer and the ORDER BY clause to sort the orders by date."
      ],
      "metadata": {
        "id": "M8vAYHjXoLvH"
      }
    },
    {
      "cell_type": "markdown",
      "source": [
        "7) UDFs (user defined functions):\n"
      ],
      "metadata": {
        "id": "2qzGM3gioP0X"
      }
    },
    {
      "cell_type": "code",
      "source": [
        "CREATE FUNCTION calculate_tax(price DECIMAL(10,2), tax_rate DECIMAL(4,2))\n",
        "RETURNS DECIMAL(10,2)\n",
        "BEGIN\n",
        "  DECLARE tax DECIMAL(10,2);\n",
        "  SET tax = price * (tax_rate / 100);\n",
        "  RETURN tax;\n",
        "END;\n",
        "\n",
        "SELECT product_name, price, calculate_tax(price, 8.25) as sales_tax\n",
        "FROM products;\n"
      ],
      "metadata": {
        "id": "ojgulD-QoRv-"
      },
      "execution_count": null,
      "outputs": []
    },
    {
      "cell_type": "markdown",
      "source": [
        "This query creates a user defined function called \"calculate_tax\" that takes in a price and a tax rate and returns the amount of sales tax. The function is then used in a query to retrieve the name of each product, its price, and the amount of sales tax."
      ],
      "metadata": {
        "id": "neciNlyToT8u"
      }
    },
    {
      "cell_type": "markdown",
      "source": [
        "8) Use of indexes in querying to make operations faster:"
      ],
      "metadata": {
        "id": "1nmo5NldoWE2"
      }
    },
    {
      "cell_type": "code",
      "source": [
        "CREATE INDEX idx_customer_name ON customers (customer_name);\n",
        "\n",
        "SELECT *\n",
        "FROM orders\n",
        "INNER JOIN customers ON orders.customer_id = customers.customer_id\n",
        "WHERE customers.customer_name = 'Acme Corporation';\n"
      ],
      "metadata": {
        "id": "esOoDHU6oYlz"
      },
      "execution_count": null,
      "outputs": []
    },
    {
      "cell_type": "markdown",
      "source": [
        "This query creates an index on the \"customer_name\" column of the \"customers\" table to make the query faster. The index is then used in a query to retrieve all orders from the \"orders\" table that are associated with the customer named \"Acme Corporation\"."
      ],
      "metadata": {
        "id": "b4ifA983oaXZ"
      }
    }
  ]
}